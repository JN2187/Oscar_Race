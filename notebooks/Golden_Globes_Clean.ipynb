{
 "cells": [
  {
   "cell_type": "code",
   "execution_count": 1,
   "metadata": {},
   "outputs": [],
   "source": [
    "import pandas as pd\n",
    "import sys \n",
    "sys.path.append(\"../\") \n",
    "import src.support as sp "
   ]
  },
  {
   "cell_type": "code",
   "execution_count": 2,
   "metadata": {},
   "outputs": [],
   "source": [
    "# Converting the csv into a Data Frame\n",
    "\n",
    "df_goldenglobe = pd.read_csv(\"../data/golden_globe_awards.csv\")"
   ]
  },
  {
   "cell_type": "code",
   "execution_count": 3,
   "metadata": {},
   "outputs": [
    {
     "data": {
      "text/plain": [
       "0"
      ]
     },
     "execution_count": 3,
     "metadata": {},
     "output_type": "execute_result"
    }
   ],
   "source": [
    "# Checking for any duplicate\n",
    "\n",
    "df_goldenglobe.duplicated().sum()"
   ]
  },
  {
   "cell_type": "code",
   "execution_count": 4,
   "metadata": {},
   "outputs": [
    {
     "data": {
      "text/plain": [
       "year_film        0\n",
       "year_award       0\n",
       "ceremony         0\n",
       "category         0\n",
       "nominee          0\n",
       "film          1800\n",
       "win              0\n",
       "dtype: int64"
      ]
     },
     "execution_count": 4,
     "metadata": {},
     "output_type": "execute_result"
    }
   ],
   "source": [
    "# Chekcking for any null value\n",
    "\n",
    "df_goldenglobe.isnull().sum()"
   ]
  },
  {
   "cell_type": "code",
   "execution_count": 5,
   "metadata": {},
   "outputs": [],
   "source": [
    "# Standarizing the column names\n",
    "# Replace the booleans with Nominee and Winner\n",
    "\n",
    "df_goldenglobe[\"win\"] = df_goldenglobe[\"win\"].replace(False, \"Nominee\").replace(True, \"Winner\")\n",
    "\n",
    "# Rename the columns with the name of the award\n",
    "\n",
    "df_goldenglobe.rename(columns={\"year_award\":\"year_ceremony\",\"nominee\":\"name\",\"win\":\"golden_globe\"}, inplace=True) \n",
    "\n",
    "# Drop the columns I don´t need\n",
    "\n",
    "df_goldenglobe.drop([\"year_film\", \"ceremony\"], axis = 1, inplace=True)"
   ]
  },
  {
   "cell_type": "code",
   "execution_count": 6,
   "metadata": {},
   "outputs": [],
   "source": [
    "# Apply the function to the columns we need to standarize\n",
    "\n",
    "df_goldenglobe[\"film\"] = sp.standarize_title(df_goldenglobe, \"film\")"
   ]
  },
  {
   "cell_type": "code",
   "execution_count": 7,
   "metadata": {},
   "outputs": [
    {
     "name": "stderr",
     "output_type": "stream",
     "text": [
      "C:\\Users\\juano\\AppData\\Local\\Temp\\ipykernel_3492\\2528910269.py:3: FutureWarning: Boolean inputs to the `inclusive` argument are deprecated in favour of `both` or `neither`.\n",
      "  df_goldenglobe_filter = df_goldenglobe[df_goldenglobe[\"year_ceremony\"].between(1990, 2022, inclusive=True)]\n"
     ]
    }
   ],
   "source": [
    "# Filter the years from 1990 to 2022 to make our analysis\n",
    "\n",
    "df_goldenglobe_filter = df_goldenglobe[df_goldenglobe[\"year_ceremony\"].between(1990, 2022, inclusive=True)]"
   ]
  },
  {
   "cell_type": "code",
   "execution_count": 8,
   "metadata": {},
   "outputs": [
    {
     "name": "stderr",
     "output_type": "stream",
     "text": [
      "C:\\Users\\juano\\AppData\\Local\\Temp\\ipykernel_3492\\3336344522.py:3: SettingWithCopyWarning: \n",
      "A value is trying to be set on a copy of a slice from a DataFrame.\n",
      "Try using .loc[row_indexer,col_indexer] = value instead\n",
      "\n",
      "See the caveats in the documentation: https://pandas.pydata.org/pandas-docs/stable/user_guide/indexing.html#returning-a-view-versus-a-copy\n",
      "  df_goldenglobe_filter[\"category\"] = df_goldenglobe_filter['category'].replace(\"Best Performance by an Actress in a Motion Picture - Drama\", \"Actress In A Leading Role - Drama\")\n",
      "C:\\Users\\juano\\AppData\\Local\\Temp\\ipykernel_3492\\3336344522.py:4: SettingWithCopyWarning: \n",
      "A value is trying to be set on a copy of a slice from a DataFrame.\n",
      "Try using .loc[row_indexer,col_indexer] = value instead\n",
      "\n",
      "See the caveats in the documentation: https://pandas.pydata.org/pandas-docs/stable/user_guide/indexing.html#returning-a-view-versus-a-copy\n",
      "  df_goldenglobe_filter[\"category\"] = df_goldenglobe_filter['category'].replace(\"Best Performance by an Actress in a Motion Picture - Musical or Comedy\", \"Actress In A Leading Role - Musical or Comedy\")\n",
      "C:\\Users\\juano\\AppData\\Local\\Temp\\ipykernel_3492\\3336344522.py:5: SettingWithCopyWarning: \n",
      "A value is trying to be set on a copy of a slice from a DataFrame.\n",
      "Try using .loc[row_indexer,col_indexer] = value instead\n",
      "\n",
      "See the caveats in the documentation: https://pandas.pydata.org/pandas-docs/stable/user_guide/indexing.html#returning-a-view-versus-a-copy\n",
      "  df_goldenglobe_filter[\"category\"] = df_goldenglobe_filter['category'].replace(\"Best Performance by an Actor in a Motion Picture - Drama\", \"Actor In A Leading Role - Drama\")\n",
      "C:\\Users\\juano\\AppData\\Local\\Temp\\ipykernel_3492\\3336344522.py:6: SettingWithCopyWarning: \n",
      "A value is trying to be set on a copy of a slice from a DataFrame.\n",
      "Try using .loc[row_indexer,col_indexer] = value instead\n",
      "\n",
      "See the caveats in the documentation: https://pandas.pydata.org/pandas-docs/stable/user_guide/indexing.html#returning-a-view-versus-a-copy\n",
      "  df_goldenglobe_filter[\"category\"] = df_goldenglobe_filter['category'].replace(\"Best Performance by an Actor in a Motion Picture - Musical or Comedy\", \"Actor In A Leading Role - Musical or Comedy\")\n",
      "C:\\Users\\juano\\AppData\\Local\\Temp\\ipykernel_3492\\3336344522.py:7: SettingWithCopyWarning: \n",
      "A value is trying to be set on a copy of a slice from a DataFrame.\n",
      "Try using .loc[row_indexer,col_indexer] = value instead\n",
      "\n",
      "See the caveats in the documentation: https://pandas.pydata.org/pandas-docs/stable/user_guide/indexing.html#returning-a-view-versus-a-copy\n",
      "  df_goldenglobe_filter[\"category\"] = df_goldenglobe_filter['category'].replace(\"Best Performance by an Actress in a Supporting Role in any Motion Picture\", \"Actress In A Supporting Role\")\n",
      "C:\\Users\\juano\\AppData\\Local\\Temp\\ipykernel_3492\\3336344522.py:8: SettingWithCopyWarning: \n",
      "A value is trying to be set on a copy of a slice from a DataFrame.\n",
      "Try using .loc[row_indexer,col_indexer] = value instead\n",
      "\n",
      "See the caveats in the documentation: https://pandas.pydata.org/pandas-docs/stable/user_guide/indexing.html#returning-a-view-versus-a-copy\n",
      "  df_goldenglobe_filter[\"category\"] = df_goldenglobe_filter['category'].replace(\"Best Performance by an Actor in a Supporting Role in any Motion Picture\", \"Actor In A Supporting Role\")\n",
      "C:\\Users\\juano\\AppData\\Local\\Temp\\ipykernel_3492\\3336344522.py:9: SettingWithCopyWarning: \n",
      "A value is trying to be set on a copy of a slice from a DataFrame.\n",
      "Try using .loc[row_indexer,col_indexer] = value instead\n",
      "\n",
      "See the caveats in the documentation: https://pandas.pydata.org/pandas-docs/stable/user_guide/indexing.html#returning-a-view-versus-a-copy\n",
      "  df_goldenglobe_filter[\"category\"] = df_goldenglobe_filter['category'].replace(\"Best Director - Motion Picture\", \"Directing\")\n",
      "C:\\Users\\juano\\AppData\\Local\\Temp\\ipykernel_3492\\3336344522.py:10: SettingWithCopyWarning: \n",
      "A value is trying to be set on a copy of a slice from a DataFrame.\n",
      "Try using .loc[row_indexer,col_indexer] = value instead\n",
      "\n",
      "See the caveats in the documentation: https://pandas.pydata.org/pandas-docs/stable/user_guide/indexing.html#returning-a-view-versus-a-copy\n",
      "  df_goldenglobe_filter[\"category\"] = df_goldenglobe_filter['category'].replace(\"Best Screenplay - Motion Picture\", \"Writing (Original Screenplay)\")\n"
     ]
    }
   ],
   "source": [
    "# Replace the old category names with the new oficial given ones\n",
    "\n",
    "df_goldenglobe_filter[\"category\"] = df_goldenglobe_filter['category'].replace(\"Best Performance by an Actress in a Motion Picture - Drama\", \"Actress In A Leading Role - Drama\")\n",
    "df_goldenglobe_filter[\"category\"] = df_goldenglobe_filter['category'].replace(\"Best Performance by an Actress in a Motion Picture - Musical or Comedy\", \"Actress In A Leading Role - Musical or Comedy\")\n",
    "df_goldenglobe_filter[\"category\"] = df_goldenglobe_filter['category'].replace(\"Best Performance by an Actor in a Motion Picture - Drama\", \"Actor In A Leading Role - Drama\")\n",
    "df_goldenglobe_filter[\"category\"] = df_goldenglobe_filter['category'].replace(\"Best Performance by an Actor in a Motion Picture - Musical or Comedy\", \"Actor In A Leading Role - Musical or Comedy\")\n",
    "df_goldenglobe_filter[\"category\"] = df_goldenglobe_filter['category'].replace(\"Best Performance by an Actress in a Supporting Role in any Motion Picture\", \"Actress In A Supporting Role\")\n",
    "df_goldenglobe_filter[\"category\"] = df_goldenglobe_filter['category'].replace(\"Best Performance by an Actor in a Supporting Role in any Motion Picture\", \"Actor In A Supporting Role\")\n",
    "df_goldenglobe_filter[\"category\"] = df_goldenglobe_filter['category'].replace(\"Best Director - Motion Picture\", \"Directing\")\n",
    "df_goldenglobe_filter[\"category\"] = df_goldenglobe_filter['category'].replace(\"Best Screenplay - Motion Picture\", \"Writing (Original Screenplay)\")"
   ]
  },
  {
   "cell_type": "code",
   "execution_count": 9,
   "metadata": {},
   "outputs": [],
   "source": [
    "# Filter, by choosing the categories I want for my anaylisis\n",
    "\n",
    "filter = ['Actor In A Leading Role - Drama', 'Actor In A Leading Role - Musical or Comedy', 'Actor In A Supporting Role',\n",
    "       'Actress In A Leading Role - Drama', 'Actress In A Leading Role - Musical or Comedy', 'Actress In A Supporting Role',\n",
    "       'Directing','Writing (Original Screenplay)']\n",
    "\n",
    "df_goldenglobe_filter = df_goldenglobe_filter.loc[df_goldenglobe_filter['category'].isin(filter)]"
   ]
  },
  {
   "cell_type": "code",
   "execution_count": 10,
   "metadata": {},
   "outputs": [],
   "source": [
    "# Convert to csv and store it in data folder\n",
    "\n",
    "df_goldenglobe_filter.to_csv(\"../data/Golden_Globes_clean.csv\")"
   ]
  }
 ],
 "metadata": {
  "kernelspec": {
   "display_name": "Python 3",
   "language": "python",
   "name": "python3"
  },
  "language_info": {
   "codemirror_mode": {
    "name": "ipython",
    "version": 3
   },
   "file_extension": ".py",
   "mimetype": "text/x-python",
   "name": "python",
   "nbconvert_exporter": "python",
   "pygments_lexer": "ipython3",
   "version": "3.10.9 (tags/v3.10.9:1dd9be6, Dec  6 2022, 20:01:21) [MSC v.1934 64 bit (AMD64)]"
  },
  "orig_nbformat": 4,
  "vscode": {
   "interpreter": {
    "hash": "50cc79e049fc694ec4a617632d3f3b416d701e5c7d1bd2dcb3b8bc06996fdedb"
   }
  }
 },
 "nbformat": 4,
 "nbformat_minor": 2
}
