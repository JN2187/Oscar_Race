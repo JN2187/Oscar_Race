{
 "cells": [
  {
   "cell_type": "code",
   "execution_count": 2,
   "metadata": {},
   "outputs": [],
   "source": [
    "import pandas as pd\n",
    "import pymongo\n",
    "import sys \n",
    "sys.path.append(\"../\") \n",
    "import src.support as sp \n",
    "import seaborn as sns"
   ]
  },
  {
   "cell_type": "code",
   "execution_count": 3,
   "metadata": {},
   "outputs": [],
   "source": [
    "# Call the csv\n",
    "\n",
    "df_cinema_award = pd.read_csv(\"../data/Cinema_Awards.csv\", index_col=0)"
   ]
  },
  {
   "cell_type": "code",
   "execution_count": 4,
   "metadata": {},
   "outputs": [
    {
     "data": {
      "text/plain": [
       "MongoClient(host=['localhost:27017'], document_class=dict, tz_aware=False, connect=True)"
      ]
     },
     "execution_count": 4,
     "metadata": {},
     "output_type": "execute_result"
    }
   ],
   "source": [
    "# Conect with Mongo\n",
    "\n",
    "client = pymongo.MongoClient()\n",
    "client"
   ]
  },
  {
   "cell_type": "code",
   "execution_count": 5,
   "metadata": {},
   "outputs": [
    {
     "data": {
      "text/plain": [
       "['Cinema_Awards_db', 'admin', 'alojamientos', 'config', 'local']"
      ]
     },
     "execution_count": 5,
     "metadata": {},
     "output_type": "execute_result"
    }
   ],
   "source": [
    "# Check our databases\n",
    "\n",
    "client.list_database_names()"
   ]
  },
  {
   "cell_type": "code",
   "execution_count": 6,
   "metadata": {},
   "outputs": [],
   "source": [
    "# Create a new database on Mongo DB\n",
    "\n",
    "mydb = client[\"Cinema_Awards_db\"]"
   ]
  },
  {
   "cell_type": "code",
   "execution_count": 7,
   "metadata": {},
   "outputs": [],
   "source": [
    "# Create a brand new collectionion in our database\n",
    "\n",
    "collection = mydb.details"
   ]
  },
  {
   "cell_type": "code",
   "execution_count": 8,
   "metadata": {},
   "outputs": [
    {
     "data": {
      "text/plain": [
       "<pymongo.results.InsertManyResult at 0x1da4f3a5c90>"
      ]
     },
     "execution_count": 8,
     "metadata": {},
     "output_type": "execute_result"
    }
   ],
   "source": [
    "# Insert data from our dataframe\n",
    "\n",
    "collection.insert_many(df_cinema_award.to_dict(\"records\"))"
   ]
  },
  {
   "cell_type": "code",
   "execution_count": 9,
   "metadata": {},
   "outputs": [
    {
     "data": {
      "text/plain": [
       "<pymongo.cursor.Cursor at 0x1da4f3a6a40>"
      ]
     },
     "execution_count": 9,
     "metadata": {},
     "output_type": "execute_result"
    }
   ],
   "source": [
    "# Pass the query parameter without any specification, so it will return all the elements of the database\n",
    "\n",
    "collection.find()"
   ]
  },
  {
   "cell_type": "code",
   "execution_count": 10,
   "metadata": {},
   "outputs": [
    {
     "data": {
      "text/html": [
       "<div>\n",
       "<style scoped>\n",
       "    .dataframe tbody tr th:only-of-type {\n",
       "        vertical-align: middle;\n",
       "    }\n",
       "\n",
       "    .dataframe tbody tr th {\n",
       "        vertical-align: top;\n",
       "    }\n",
       "\n",
       "    .dataframe thead th {\n",
       "        text-align: right;\n",
       "    }\n",
       "</style>\n",
       "<table border=\"1\" class=\"dataframe\">\n",
       "  <thead>\n",
       "    <tr style=\"text-align: right;\">\n",
       "      <th></th>\n",
       "      <th>_id</th>\n",
       "      <th>year_ceremony</th>\n",
       "      <th>category</th>\n",
       "      <th>name</th>\n",
       "      <th>film</th>\n",
       "      <th>oscar</th>\n",
       "      <th>golden_globe</th>\n",
       "      <th>sag</th>\n",
       "      <th>cca</th>\n",
       "    </tr>\n",
       "  </thead>\n",
       "  <tbody>\n",
       "    <tr>\n",
       "      <th>0</th>\n",
       "      <td>63ce844b88334562ce59c23b</td>\n",
       "      <td>1990</td>\n",
       "      <td>Actor In A Leading Role</td>\n",
       "      <td>Kenneth Branagh</td>\n",
       "      <td>Henry V</td>\n",
       "      <td>Nominee</td>\n",
       "      <td>No</td>\n",
       "      <td>No</td>\n",
       "      <td>No</td>\n",
       "    </tr>\n",
       "    <tr>\n",
       "      <th>1</th>\n",
       "      <td>63ce844b88334562ce59c23c</td>\n",
       "      <td>1990</td>\n",
       "      <td>Actor In A Leading Role</td>\n",
       "      <td>Tom Cruise</td>\n",
       "      <td>Born On The Fourth Of July</td>\n",
       "      <td>Nominee</td>\n",
       "      <td>No</td>\n",
       "      <td>No</td>\n",
       "      <td>No</td>\n",
       "    </tr>\n",
       "  </tbody>\n",
       "</table>\n",
       "</div>"
      ],
      "text/plain": [
       "                        _id  year_ceremony                 category  \\\n",
       "0  63ce844b88334562ce59c23b           1990  Actor In A Leading Role   \n",
       "1  63ce844b88334562ce59c23c           1990  Actor In A Leading Role   \n",
       "\n",
       "              name                        film    oscar golden_globe sag cca  \n",
       "0  Kenneth Branagh                     Henry V  Nominee           No  No  No  \n",
       "1       Tom Cruise  Born On The Fourth Of July  Nominee           No  No  No  "
      ]
     },
     "execution_count": 10,
     "metadata": {},
     "output_type": "execute_result"
    }
   ],
   "source": [
    "# Create a DataFrame from the extraction in Mongo\n",
    "\n",
    "df_mongo = pd.DataFrame(collection.find())\n",
    "df_mongo.head(2)"
   ]
  },
  {
   "cell_type": "code",
   "execution_count": 11,
   "metadata": {},
   "outputs": [],
   "source": [
    "# Call the function create_year_range_df to filter my data frame between those 2 years\n",
    "\n",
    "df_oscar_race = sp.create_year_range_df(1990, 2020, df_mongo)"
   ]
  },
  {
   "cell_type": "code",
   "execution_count": 12,
   "metadata": {},
   "outputs": [
    {
     "name": "stderr",
     "output_type": "stream",
     "text": [
      "C:\\Users\\juano\\AppData\\Local\\Temp\\ipykernel_9844\\2245221602.py:3: SettingWithCopyWarning: \n",
      "A value is trying to be set on a copy of a slice from a DataFrame.\n",
      "Try using .loc[row_indexer,col_indexer] = value instead\n",
      "\n",
      "See the caveats in the documentation: https://pandas.pydata.org/pandas-docs/stable/user_guide/indexing.html#returning-a-view-versus-a-copy\n",
      "  df_oscar_race['oscar_win'] = df_oscar_race.apply(lambda x: 1 if x['oscar'] == 'Winner' else 0, axis=1)\n",
      "C:\\Users\\juano\\AppData\\Local\\Temp\\ipykernel_9844\\2245221602.py:4: SettingWithCopyWarning: \n",
      "A value is trying to be set on a copy of a slice from a DataFrame.\n",
      "Try using .loc[row_indexer,col_indexer] = value instead\n",
      "\n",
      "See the caveats in the documentation: https://pandas.pydata.org/pandas-docs/stable/user_guide/indexing.html#returning-a-view-versus-a-copy\n",
      "  df_oscar_race['golden_globe_win'] = df_oscar_race.apply(lambda x: 1 if x['golden_globe'] == 'Winner' else 0, axis=1)\n",
      "C:\\Users\\juano\\AppData\\Local\\Temp\\ipykernel_9844\\2245221602.py:5: SettingWithCopyWarning: \n",
      "A value is trying to be set on a copy of a slice from a DataFrame.\n",
      "Try using .loc[row_indexer,col_indexer] = value instead\n",
      "\n",
      "See the caveats in the documentation: https://pandas.pydata.org/pandas-docs/stable/user_guide/indexing.html#returning-a-view-versus-a-copy\n",
      "  df_oscar_race['sag_win'] = df_oscar_race.apply(lambda x: 1 if x['sag'] == 'Winner' else 0, axis=1)\n",
      "C:\\Users\\juano\\AppData\\Local\\Temp\\ipykernel_9844\\2245221602.py:6: SettingWithCopyWarning: \n",
      "A value is trying to be set on a copy of a slice from a DataFrame.\n",
      "Try using .loc[row_indexer,col_indexer] = value instead\n",
      "\n",
      "See the caveats in the documentation: https://pandas.pydata.org/pandas-docs/stable/user_guide/indexing.html#returning-a-view-versus-a-copy\n",
      "  df_oscar_race['cca_win'] = df_oscar_race.apply(lambda x: 1 if x['cca'] == 'Winner' else 0, axis=1)\n"
     ]
    }
   ],
   "source": [
    "# Create a new column indicating whether the nominee or winner won an Oscar\n",
    "\n",
    "df_oscar_race['oscar_win'] = df_oscar_race.apply(lambda x: 1 if x['oscar'] == 'Winner' else 0, axis=1)\n",
    "df_oscar_race['golden_globe_win'] = df_oscar_race.apply(lambda x: 1 if x['golden_globe'] == 'Winner' else 0, axis=1)\n",
    "df_oscar_race['sag_win'] = df_oscar_race.apply(lambda x: 1 if x['sag'] == 'Winner' else 0, axis=1)\n",
    "df_oscar_race['cca_win'] = df_oscar_race.apply(lambda x: 1 if x['cca'] == 'Winner' else 0, axis=1)\n",
    "\n",
    "# Group the dataframe by actor/actress and film\n",
    "\n",
    "grouped = df_oscar_race.groupby([\"year_ceremony\", \"film\"])\n",
    "\n",
    "# Calculate the number of Oscar wins, nominations, and wins in the other awards\n",
    "\n",
    "df_correlation1 = grouped.agg({'oscar_win': 'sum', 'golden_globe_win': 'count', 'sag_win': 'sum', 'cca_win': 'sum'}).reset_index()"
   ]
  },
  {
   "cell_type": "code",
   "execution_count": 13,
   "metadata": {},
   "outputs": [],
   "source": [
    "# Sort the values in descending order\n",
    "\n",
    "df_corr = df_correlation1.sort_values(by='oscar_win', ascending=False)"
   ]
  },
  {
   "cell_type": "code",
   "execution_count": 14,
   "metadata": {},
   "outputs": [],
   "source": [
    "# Drop the year for our heatmap\n",
    "\n",
    "df_corr1 = df_corr.drop(['year_ceremony'], axis=1)"
   ]
  },
  {
   "cell_type": "code",
   "execution_count": 19,
   "metadata": {},
   "outputs": [
    {
     "data": {
      "text/html": [
       "<div>\n",
       "<style scoped>\n",
       "    .dataframe tbody tr th:only-of-type {\n",
       "        vertical-align: middle;\n",
       "    }\n",
       "\n",
       "    .dataframe tbody tr th {\n",
       "        vertical-align: top;\n",
       "    }\n",
       "\n",
       "    .dataframe thead th {\n",
       "        text-align: right;\n",
       "    }\n",
       "</style>\n",
       "<table border=\"1\" class=\"dataframe\">\n",
       "  <thead>\n",
       "    <tr style=\"text-align: right;\">\n",
       "      <th></th>\n",
       "      <th>film</th>\n",
       "      <th>oscar_win</th>\n",
       "      <th>golden_globe_win</th>\n",
       "      <th>sag_win</th>\n",
       "      <th>cca_win</th>\n",
       "    </tr>\n",
       "  </thead>\n",
       "  <tbody>\n",
       "    <tr>\n",
       "      <th>91</th>\n",
       "      <td>The Silence Of The Lambs</td>\n",
       "      <td>10</td>\n",
       "      <td>18</td>\n",
       "      <td>0</td>\n",
       "      <td>0</td>\n",
       "    </tr>\n",
       "    <tr>\n",
       "      <th>950</th>\n",
       "      <td>The King'S Speech</td>\n",
       "      <td>8</td>\n",
       "      <td>28</td>\n",
       "      <td>2</td>\n",
       "      <td>0</td>\n",
       "    </tr>\n",
       "    <tr>\n",
       "      <th>163</th>\n",
       "      <td>Forrest Gump</td>\n",
       "      <td>8</td>\n",
       "      <td>28</td>\n",
       "      <td>2</td>\n",
       "      <td>0</td>\n",
       "    </tr>\n",
       "    <tr>\n",
       "      <th>640</th>\n",
       "      <td>Million Dollar Baby</td>\n",
       "      <td>8</td>\n",
       "      <td>22</td>\n",
       "      <td>4</td>\n",
       "      <td>0</td>\n",
       "    </tr>\n",
       "    <tr>\n",
       "      <th>466</th>\n",
       "      <td>A Beautiful Mind</td>\n",
       "      <td>8</td>\n",
       "      <td>22</td>\n",
       "      <td>2</td>\n",
       "      <td>0</td>\n",
       "    </tr>\n",
       "    <tr>\n",
       "      <th>...</th>\n",
       "      <td>...</td>\n",
       "      <td>...</td>\n",
       "      <td>...</td>\n",
       "      <td>...</td>\n",
       "      <td>...</td>\n",
       "    </tr>\n",
       "    <tr>\n",
       "      <th>506</th>\n",
       "      <td>Shrek</td>\n",
       "      <td>0</td>\n",
       "      <td>2</td>\n",
       "      <td>0</td>\n",
       "      <td>0</td>\n",
       "    </tr>\n",
       "    <tr>\n",
       "      <th>505</th>\n",
       "      <td>Sexy Beast</td>\n",
       "      <td>0</td>\n",
       "      <td>6</td>\n",
       "      <td>0</td>\n",
       "      <td>0</td>\n",
       "    </tr>\n",
       "    <tr>\n",
       "      <th>504</th>\n",
       "      <td>Royal Tenenbaums, The</td>\n",
       "      <td>0</td>\n",
       "      <td>4</td>\n",
       "      <td>0</td>\n",
       "      <td>0</td>\n",
       "    </tr>\n",
       "    <tr>\n",
       "      <th>503</th>\n",
       "      <td>Road To Perdition</td>\n",
       "      <td>0</td>\n",
       "      <td>4</td>\n",
       "      <td>0</td>\n",
       "      <td>0</td>\n",
       "    </tr>\n",
       "    <tr>\n",
       "      <th>1409</th>\n",
       "      <td>Where'D You Go, Bernadette</td>\n",
       "      <td>0</td>\n",
       "      <td>2</td>\n",
       "      <td>0</td>\n",
       "      <td>0</td>\n",
       "    </tr>\n",
       "  </tbody>\n",
       "</table>\n",
       "<p>1410 rows × 5 columns</p>\n",
       "</div>"
      ],
      "text/plain": [
       "                            film  oscar_win  golden_globe_win  sag_win  \\\n",
       "91      The Silence Of The Lambs         10                18        0   \n",
       "950            The King'S Speech          8                28        2   \n",
       "163                 Forrest Gump          8                28        2   \n",
       "640          Million Dollar Baby          8                22        4   \n",
       "466             A Beautiful Mind          8                22        2   \n",
       "...                          ...        ...               ...      ...   \n",
       "506                        Shrek          0                 2        0   \n",
       "505                   Sexy Beast          0                 6        0   \n",
       "504        Royal Tenenbaums, The          0                 4        0   \n",
       "503            Road To Perdition          0                 4        0   \n",
       "1409  Where'D You Go, Bernadette          0                 2        0   \n",
       "\n",
       "      cca_win  \n",
       "91          0  \n",
       "950         0  \n",
       "163         0  \n",
       "640         0  \n",
       "466         0  \n",
       "...       ...  \n",
       "506         0  \n",
       "505         0  \n",
       "504         0  \n",
       "503         0  \n",
       "1409        0  \n",
       "\n",
       "[1410 rows x 5 columns]"
      ]
     },
     "execution_count": 19,
     "metadata": {},
     "output_type": "execute_result"
    }
   ],
   "source": [
    "df_corr1"
   ]
  },
  {
   "cell_type": "code",
   "execution_count": 17,
   "metadata": {},
   "outputs": [
    {
     "name": "stderr",
     "output_type": "stream",
     "text": [
      "C:\\Users\\juano\\AppData\\Local\\Temp\\ipykernel_9844\\3703217456.py:3: FutureWarning: The default value of numeric_only in DataFrame.corr is deprecated. In a future version, it will default to False. Select only valid columns or specify the value of numeric_only to silence this warning.\n",
      "  corr = df_corr1.corr()\n"
     ]
    },
    {
     "data": {
      "text/plain": [
       "<AxesSubplot: >"
      ]
     },
     "execution_count": 17,
     "metadata": {},
     "output_type": "execute_result"
    },
    {
     "data": {
      "image/png": "[encoded data removed]",
      "text/plain": [
       "<Figure size 640x480 with 2 Axes>"
      ]
     },
     "metadata": {},
     "output_type": "display_data"
    }
   ],
   "source": [
    "# Calculate the correlation between the number of wins in the other awards and the number of Oscar wins\n",
    "\n",
    "corr = df_corr1.corr()\n",
    "\n",
    "# Visualize the correlation matrix\n",
    "\n",
    "sns.heatmap(corr, annot=True)"
   ]
  }
 ],
 "metadata": {
  "kernelspec": {
   "display_name": "Python 3",
   "language": "python",
   "name": "python3"
  },
  "language_info": {
   "codemirror_mode": {
    "name": "ipython",
    "version": 3
   },
   "file_extension": ".py",
   "mimetype": "text/x-python",
   "name": "python",
   "nbconvert_exporter": "python",
   "pygments_lexer": "ipython3",
   "version": "3.10.9"
  },
  "orig_nbformat": 4,
  "vscode": {
   "interpreter": {
    "hash": "50cc79e049fc694ec4a617632d3f3b416d701e5c7d1bd2dcb3b8bc06996fdedb"
   }
  }
 },
 "nbformat": 4,
 "nbformat_minor": 2
}
