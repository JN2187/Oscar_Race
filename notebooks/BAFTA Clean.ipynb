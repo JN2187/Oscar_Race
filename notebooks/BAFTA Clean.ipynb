{
 "cells": [
  {
   "cell_type": "code",
   "execution_count": 21,
   "metadata": {},
   "outputs": [],
   "source": [
    "import pandas as pd\n",
    "import re"
   ]
  },
  {
   "cell_type": "code",
   "execution_count": 22,
   "metadata": {},
   "outputs": [],
   "source": [
    "# Convert the csv into a Data Frame\n",
    "\n",
    "df_bafta = pd.read_csv(\"../data/bafta_films.csv\")"
   ]
  },
  {
   "cell_type": "code",
   "execution_count": 23,
   "metadata": {},
   "outputs": [
    {
     "data": {
      "text/plain": [
       "1"
      ]
     },
     "execution_count": 23,
     "metadata": {},
     "output_type": "execute_result"
    }
   ],
   "source": [
    "# Check for any duplicate\n",
    "\n",
    "df_bafta.duplicated().sum()"
   ]
  },
  {
   "cell_type": "code",
   "execution_count": 24,
   "metadata": {},
   "outputs": [
    {
     "data": {
      "text/plain": [
       "0"
      ]
     },
     "execution_count": 24,
     "metadata": {},
     "output_type": "execute_result"
    }
   ],
   "source": [
    "# Drop the duplicates\n",
    "\n",
    "df_bafta = df_bafta.drop_duplicates()\n",
    "df_bafta.duplicated().sum()"
   ]
  },
  {
   "cell_type": "code",
   "execution_count": 25,
   "metadata": {},
   "outputs": [
    {
     "data": {
      "text/plain": [
       "year          0\n",
       "category      0\n",
       "nominee       0\n",
       "workers     773\n",
       "winner        0\n",
       "dtype: int64"
      ]
     },
     "execution_count": 25,
     "metadata": {},
     "output_type": "execute_result"
    }
   ],
   "source": [
    "# Check for any null value\n",
    "\n",
    "df_bafta.isnull().sum()"
   ]
  },
  {
   "cell_type": "code",
   "execution_count": 26,
   "metadata": {},
   "outputs": [],
   "source": [
    "# Standarizing the column names\n",
    "# Replace the booleans with Nominee and Winner\n",
    "\n",
    "df_bafta[\"winner\"] = df_bafta['winner'].replace(False, \"Nominee\").replace(True, \"Winner\") \n",
    "\n",
    "# Rename the columns with the name of the award\n",
    "\n",
    "df_bafta.rename(columns={\"year\":\"year_ceremony\",\"nominee\":\"name\",\"workers\":\"film\",'winner':\"bafta\"}, inplace=True)"
   ]
  },
  {
   "cell_type": "code",
   "execution_count": 27,
   "metadata": {},
   "outputs": [],
   "source": [
    "# Clean the category names, and replace them\n",
    "\n",
    "category = {cat : cat.strip().replace(\"Film | \", \"\") for cat in df_bafta[\"category\"]}\n",
    "df_bafta[\"category\"].replace(category, inplace = True)"
   ]
  },
  {
   "cell_type": "code",
   "execution_count": 28,
   "metadata": {},
   "outputs": [],
   "source": [
    "# More cleaning\n",
    "# Drops all the year info contained in category by applying a lambda with a regex pattern that takes off all the \"_in_{4 numeric values}\"\n",
    "\n",
    "df_bafta[\"category\"] = df_bafta[\"category\"].apply(lambda cat: re.sub(r\"\\sin\\s\\d{4}\", \"\", cat)) "
   ]
  },
  {
   "cell_type": "code",
   "execution_count": 29,
   "metadata": {},
   "outputs": [
    {
     "name": "stderr",
     "output_type": "stream",
     "text": [
      "C:\\Users\\juano\\AppData\\Local\\Temp\\ipykernel_11576\\519715227.py:3: FutureWarning: Boolean inputs to the `inclusive` argument are deprecated in favour of `both` or `neither`.\n",
      "  df_bafta_filter = df_bafta[df_bafta[\"year_ceremony\"].between(1990, 2022, inclusive=True)]\n"
     ]
    }
   ],
   "source": [
    "# Filter the years from 1990 to 2022 to make our analysis\n",
    "\n",
    "df_bafta_filter = df_bafta[df_bafta[\"year_ceremony\"].between(1990, 2022, inclusive=True)]"
   ]
  },
  {
   "cell_type": "code",
   "execution_count": 30,
   "metadata": {},
   "outputs": [
    {
     "name": "stderr",
     "output_type": "stream",
     "text": [
      "C:\\Users\\juano\\AppData\\Local\\Temp\\ipykernel_11576\\1466869846.py:3: SettingWithCopyWarning: \n",
      "A value is trying to be set on a copy of a slice from a DataFrame.\n",
      "Try using .loc[row_indexer,col_indexer] = value instead\n",
      "\n",
      "See the caveats in the documentation: https://pandas.pydata.org/pandas-docs/stable/user_guide/indexing.html#returning-a-view-versus-a-copy\n",
      "  df_bafta_filter[\"category\"] = df_bafta_filter['category'].replace(\"Adapted Screenplay\",\"Writing (Adapted Screenplay)\")\n",
      "C:\\Users\\juano\\AppData\\Local\\Temp\\ipykernel_11576\\1466869846.py:4: SettingWithCopyWarning: \n",
      "A value is trying to be set on a copy of a slice from a DataFrame.\n",
      "Try using .loc[row_indexer,col_indexer] = value instead\n",
      "\n",
      "See the caveats in the documentation: https://pandas.pydata.org/pandas-docs/stable/user_guide/indexing.html#returning-a-view-versus-a-copy\n",
      "  df_bafta_filter[\"category\"] = df_bafta_filter['category'].replace(\"Film\",\"Best Picture\")\n",
      "C:\\Users\\juano\\AppData\\Local\\Temp\\ipykernel_11576\\1466869846.py:5: SettingWithCopyWarning: \n",
      "A value is trying to be set on a copy of a slice from a DataFrame.\n",
      "Try using .loc[row_indexer,col_indexer] = value instead\n",
      "\n",
      "See the caveats in the documentation: https://pandas.pydata.org/pandas-docs/stable/user_guide/indexing.html#returning-a-view-versus-a-copy\n",
      "  df_bafta_filter[\"category\"] = df_bafta_filter['category'].replace(\"Film Not in the English Language\",\"International Feature Film\")\n",
      "C:\\Users\\juano\\AppData\\Local\\Temp\\ipykernel_11576\\1466869846.py:6: SettingWithCopyWarning: \n",
      "A value is trying to be set on a copy of a slice from a DataFrame.\n",
      "Try using .loc[row_indexer,col_indexer] = value instead\n",
      "\n",
      "See the caveats in the documentation: https://pandas.pydata.org/pandas-docs/stable/user_guide/indexing.html#returning-a-view-versus-a-copy\n",
      "  df_bafta_filter[\"category\"] = df_bafta_filter['category'].replace(\"Original Screenplay\",\"Writing (Original Screenplay)\")\n",
      "C:\\Users\\juano\\AppData\\Local\\Temp\\ipykernel_11576\\1466869846.py:7: SettingWithCopyWarning: \n",
      "A value is trying to be set on a copy of a slice from a DataFrame.\n",
      "Try using .loc[row_indexer,col_indexer] = value instead\n",
      "\n",
      "See the caveats in the documentation: https://pandas.pydata.org/pandas-docs/stable/user_guide/indexing.html#returning-a-view-versus-a-copy\n",
      "  df_bafta_filter[\"category\"] = df_bafta_filter['category'].replace(\"Director\",\"Directing\")\n",
      "C:\\Users\\juano\\AppData\\Local\\Temp\\ipykernel_11576\\1466869846.py:8: SettingWithCopyWarning: \n",
      "A value is trying to be set on a copy of a slice from a DataFrame.\n",
      "Try using .loc[row_indexer,col_indexer] = value instead\n",
      "\n",
      "See the caveats in the documentation: https://pandas.pydata.org/pandas-docs/stable/user_guide/indexing.html#returning-a-view-versus-a-copy\n",
      "  df_bafta_filter[\"category\"] = df_bafta_filter['category'].replace(\"Achievement in Direction\",\"Directing\")\n",
      "C:\\Users\\juano\\AppData\\Local\\Temp\\ipykernel_11576\\1466869846.py:9: SettingWithCopyWarning: \n",
      "A value is trying to be set on a copy of a slice from a DataFrame.\n",
      "Try using .loc[row_indexer,col_indexer] = value instead\n",
      "\n",
      "See the caveats in the documentation: https://pandas.pydata.org/pandas-docs/stable/user_guide/indexing.html#returning-a-view-versus-a-copy\n",
      "  df_bafta_filter[\"category\"] = df_bafta_filter['category'].replace(\"Leading Actor\",\"Actor In A Leading Role\")\n",
      "C:\\Users\\juano\\AppData\\Local\\Temp\\ipykernel_11576\\1466869846.py:10: SettingWithCopyWarning: \n",
      "A value is trying to be set on a copy of a slice from a DataFrame.\n",
      "Try using .loc[row_indexer,col_indexer] = value instead\n",
      "\n",
      "See the caveats in the documentation: https://pandas.pydata.org/pandas-docs/stable/user_guide/indexing.html#returning-a-view-versus-a-copy\n",
      "  df_bafta_filter[\"category\"] = df_bafta_filter['category'].replace(\"Leading Actress\",\"Actress in a Leading Role\")\n",
      "C:\\Users\\juano\\AppData\\Local\\Temp\\ipykernel_11576\\1466869846.py:11: SettingWithCopyWarning: \n",
      "A value is trying to be set on a copy of a slice from a DataFrame.\n",
      "Try using .loc[row_indexer,col_indexer] = value instead\n",
      "\n",
      "See the caveats in the documentation: https://pandas.pydata.org/pandas-docs/stable/user_guide/indexing.html#returning-a-view-versus-a-copy\n",
      "  df_bafta_filter[\"category\"] = df_bafta_filter['category'].replace(\"Best Film\",\"Best Picture\")\n"
     ]
    }
   ],
   "source": [
    "# Replace the old category names with the new oficial given ones\n",
    "\n",
    "df_bafta_filter[\"category\"] = df_bafta_filter['category'].replace(\"Adapted Screenplay\",\"Writing (Adapted Screenplay)\")\n",
    "df_bafta_filter[\"category\"] = df_bafta_filter['category'].replace(\"Film\",\"Best Picture\")\n",
    "df_bafta_filter[\"category\"] = df_bafta_filter['category'].replace(\"Film Not in the English Language\",\"International Feature Film\")\n",
    "df_bafta_filter[\"category\"] = df_bafta_filter['category'].replace(\"Original Screenplay\",\"Writing (Original Screenplay)\")\n",
    "df_bafta_filter[\"category\"] = df_bafta_filter['category'].replace(\"Director\",\"Directing\")\n",
    "df_bafta_filter[\"category\"] = df_bafta_filter['category'].replace(\"Achievement in Direction\",\"Directing\")\n",
    "df_bafta_filter[\"category\"] = df_bafta_filter['category'].replace(\"Leading Actor\",\"Actor In A Leading Role\")\n",
    "df_bafta_filter[\"category\"] = df_bafta_filter['category'].replace(\"Leading Actress\",\"Actress in a Leading Role\")\n",
    "df_bafta_filter[\"category\"] = df_bafta_filter['category'].replace(\"Best Film\",\"Best Picture\")"
   ]
  },
  {
   "cell_type": "code",
   "execution_count": 31,
   "metadata": {},
   "outputs": [],
   "source": [
    "# Filter, by choosing the categories I choose for my anaylisis\n",
    "\n",
    "filter = ['Actor in a Leading Role', 'Actor in a Supporting Role', 'Actress in a Leading Role', 'Actress in a Supporting Role',\n",
    "'Writing (Adapted Screenplay)','Writing (Original Screenplay)', 'Directing', 'Best Picture']\n",
    "\n",
    "df_bafta_filter = df_bafta_filter.loc[df_bafta_filter['category'].isin(filter)]"
   ]
  },
  {
   "cell_type": "code",
   "execution_count": 32,
   "metadata": {},
   "outputs": [],
   "source": [
    "# List of misplaced names to swap columns with film and viceversa\n",
    "\n",
    "categories = [\"Writing (Adapted Screenplay)\", \"Writing (Original Screenplay)\", \"Best Picture\"]\n",
    "\n",
    "# Iterate through the categories\n",
    "\n",
    "for category in categories:\n",
    "\n",
    "    # Store the values of the 'film' column in a temporary variable\n",
    "\n",
    "    temp = df_bafta_filter.loc[df_bafta_filter[\"category\"] == category, \"film\"]\n",
    "\n",
    "    # assign the values of the 'names' column to the 'film' column\n",
    "\n",
    "    df_bafta_filter.loc[df_bafta_filter[\"category\"] == category, \"film\"] = df_bafta_filter.loc[df_bafta_filter[\"category\"] == category, \"name\"]\n",
    "\n",
    "    # assign the values of the temporary variable (previous values of 'film' column) to the 'names' column\n",
    "    \n",
    "    df_bafta_filter.loc[df_bafta_filter[\"category\"] == category, \"name\"] = temp"
   ]
  },
  {
   "cell_type": "code",
   "execution_count": 33,
   "metadata": {},
   "outputs": [],
   "source": [
    "# Locate the nans, and non numeric values with .loc and replace them with their correct names\n",
    "\n",
    "position = [3845, 3846, 3847, 3848, 3849]\n",
    "incorrect_names = [\"The Shape of Water\", \"Blade Runner 2049\", \"Call Me by Your Name\", \"Dunkirk\", \"Three Billboards Outside Ebbing, Missouri\"]\n",
    "correct_names = [\"Guillermo del Toro\", \"Denis Villeneuve\", \"Luca Guadagnino\", \"Christopher Nolan\", \"Martin McDonagh\"] \n",
    "\n",
    "# Use the .loc indexer to select the rows at the specified positions\n",
    "\n",
    "df_bafta_filter.loc[position, \"film\"] = incorrect_names\n",
    "df_bafta_filter.loc[position, \"name\"] = correct_names"
   ]
  },
  {
   "cell_type": "code",
   "execution_count": 34,
   "metadata": {},
   "outputs": [],
   "source": [
    "# Convert to csv and store it in data folder\n",
    "\n",
    "df_bafta_filter.to_csv(\"../data/BAFTA_clean.csv\")"
   ]
  }
 ],
 "metadata": {
  "kernelspec": {
   "display_name": "Python 3",
   "language": "python",
   "name": "python3"
  },
  "language_info": {
   "codemirror_mode": {
    "name": "ipython",
    "version": 3
   },
   "file_extension": ".py",
   "mimetype": "text/x-python",
   "name": "python",
   "nbconvert_exporter": "python",
   "pygments_lexer": "ipython3",
   "version": "3.10.9"
  },
  "orig_nbformat": 4,
  "vscode": {
   "interpreter": {
    "hash": "50cc79e049fc694ec4a617632d3f3b416d701e5c7d1bd2dcb3b8bc06996fdedb"
   }
  }
 },
 "nbformat": 4,
 "nbformat_minor": 2
}
