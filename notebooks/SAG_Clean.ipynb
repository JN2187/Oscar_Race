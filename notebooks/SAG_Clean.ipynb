{
 "cells": [
  {
   "cell_type": "code",
   "execution_count": 1,
   "metadata": {},
   "outputs": [],
   "source": [
    "import pandas as pd\n",
    "sys.path.append(\"../\") \n",
    "import src.support as sp"
   ]
  },
  {
   "cell_type": "code",
   "execution_count": 2,
   "metadata": {},
   "outputs": [],
   "source": [
    "# Convert the csv into a Data Frame\n",
    "\n",
    "df_sag = pd.read_csv(\"../data/screen_actor_guild_awards.csv\")"
   ]
  },
  {
   "cell_type": "code",
   "execution_count": 3,
   "metadata": {},
   "outputs": [
    {
     "data": {
      "text/plain": [
       "11"
      ]
     },
     "execution_count": 3,
     "metadata": {},
     "output_type": "execute_result"
    }
   ],
   "source": [
    "# Check for any duplicate\n",
    "\n",
    "df_sag.duplicated().sum()"
   ]
  },
  {
   "cell_type": "code",
   "execution_count": 4,
   "metadata": {},
   "outputs": [
    {
     "data": {
      "text/plain": [
       "0"
      ]
     },
     "execution_count": 4,
     "metadata": {},
     "output_type": "execute_result"
    }
   ],
   "source": [
    "# Drop the duplicates\n",
    "\n",
    "df_sag = df_sag.drop_duplicates()\n",
    "df_sag.duplicated().sum()"
   ]
  },
  {
   "cell_type": "code",
   "execution_count": 5,
   "metadata": {},
   "outputs": [
    {
     "data": {
      "text/plain": [
       "year           2\n",
       "category       0\n",
       "full_name    421\n",
       "show          54\n",
       "won            0\n",
       "dtype: int64"
      ]
     },
     "execution_count": 5,
     "metadata": {},
     "output_type": "execute_result"
    }
   ],
   "source": [
    "# Chekck for any null value\n",
    "\n",
    "df_sag.isnull().sum()"
   ]
  },
  {
   "cell_type": "code",
   "execution_count": 6,
   "metadata": {},
   "outputs": [],
   "source": [
    "# Standarizing the column names\n",
    "# Replace the booleans with Nominee and Winner\n",
    "\n",
    "df_sag[\"won\"] = df_sag[\"won\"].replace(False, \"Nominee\").replace(True, \"Winner\")\n",
    "\n",
    "# Rename the columns with the name of the award\n",
    "\n",
    "df_sag.rename(columns={\"year\":\"year_ceremony\",\"full_name\":\"name\",\"show\":\"film\",\"won\":\"sag\"}, inplace=True) "
   ]
  },
  {
   "cell_type": "code",
   "execution_count": 7,
   "metadata": {},
   "outputs": [],
   "source": [
    "# Apply the function to the columns we need to standarize\n",
    "\n",
    "df_sag[\"name\"] = sp.standarize_title(df_sag, \"name\")\n",
    "df_sag[\"film\"] = sp.standarize_title(df_sag, \"film\")\n",
    "df_sag[\"category\"] = sp.standarize_title(df_sag, \"category\")"
   ]
  },
  {
   "cell_type": "code",
   "execution_count": 8,
   "metadata": {},
   "outputs": [],
   "source": [
    "# Clean the empty spaces on the category names, and replace them\n",
    "\n",
    "category = {cat : cat.strip() for cat in df_sag[\"category\"]}\n",
    "df_sag[\"category\"].replace(category, inplace = True)"
   ]
  },
  {
   "cell_type": "code",
   "execution_count": 9,
   "metadata": {},
   "outputs": [],
   "source": [
    "# Locate the nans, and non numeric values with .loc and replace them with their ceremony years\n",
    "\n",
    "df_sag[\"year_ceremony\"].loc[5758] = \"2021\"\n",
    "df_sag[\"year_ceremony\"].loc[5757] = \"2017\"\n",
    "df_sag[\"year_ceremony\"].loc[5756] = \"2019\""
   ]
  },
  {
   "cell_type": "code",
   "execution_count": 10,
   "metadata": {},
   "outputs": [],
   "source": [
    "# Apply our function to our dataset, in the film column, and vualá, our df is clean now \n",
    "\n",
    "df_sag[\"year_ceremony\"] = df_sag[\"year_ceremony\"].apply(sp.clean_year).astype(int)"
   ]
  },
  {
   "cell_type": "code",
   "execution_count": 11,
   "metadata": {},
   "outputs": [
    {
     "name": "stderr",
     "output_type": "stream",
     "text": [
      "C:\\Users\\juano\\AppData\\Local\\Temp\\ipykernel_12620\\1261690301.py:3: FutureWarning: Boolean inputs to the `inclusive` argument are deprecated in favour of `both` or `neither`.\n",
      "  df_sag_filter = df_sag[df_sag[\"year_ceremony\"].between(1990, 2022, inclusive=True)]\n"
     ]
    }
   ],
   "source": [
    "# Filter the years from 1990 to 2022 to make our analysis\n",
    "\n",
    "df_sag_filter = df_sag[df_sag[\"year_ceremony\"].between(1990, 2022, inclusive=True)]"
   ]
  },
  {
   "cell_type": "code",
   "execution_count": 12,
   "metadata": {},
   "outputs": [
    {
     "name": "stderr",
     "output_type": "stream",
     "text": [
      "C:\\Users\\juano\\AppData\\Local\\Temp\\ipykernel_12620\\463670398.py:3: SettingWithCopyWarning: \n",
      "A value is trying to be set on a copy of a slice from a DataFrame.\n",
      "Try using .loc[row_indexer,col_indexer] = value instead\n",
      "\n",
      "See the caveats in the documentation: https://pandas.pydata.org/pandas-docs/stable/user_guide/indexing.html#returning-a-view-versus-a-copy\n",
      "  df_sag_filter[\"category\"] = df_sag_filter['category'].replace(\"Female Actor In A Leading Role\",\"Actress in a Leading Role\")\n",
      "C:\\Users\\juano\\AppData\\Local\\Temp\\ipykernel_12620\\463670398.py:4: SettingWithCopyWarning: \n",
      "A value is trying to be set on a copy of a slice from a DataFrame.\n",
      "Try using .loc[row_indexer,col_indexer] = value instead\n",
      "\n",
      "See the caveats in the documentation: https://pandas.pydata.org/pandas-docs/stable/user_guide/indexing.html#returning-a-view-versus-a-copy\n",
      "  df_sag_filter[\"category\"] = df_sag_filter['category'].replace(\"Male Actor In A Leading Role\",\"Actor in a Leading Role\")\n",
      "C:\\Users\\juano\\AppData\\Local\\Temp\\ipykernel_12620\\463670398.py:5: SettingWithCopyWarning: \n",
      "A value is trying to be set on a copy of a slice from a DataFrame.\n",
      "Try using .loc[row_indexer,col_indexer] = value instead\n",
      "\n",
      "See the caveats in the documentation: https://pandas.pydata.org/pandas-docs/stable/user_guide/indexing.html#returning-a-view-versus-a-copy\n",
      "  df_sag_filter[\"category\"] = df_sag_filter['category'].replace(\"Male Actor In A Supporting Role\",\"Actor in a Supporting Role\")\n",
      "C:\\Users\\juano\\AppData\\Local\\Temp\\ipykernel_12620\\463670398.py:6: SettingWithCopyWarning: \n",
      "A value is trying to be set on a copy of a slice from a DataFrame.\n",
      "Try using .loc[row_indexer,col_indexer] = value instead\n",
      "\n",
      "See the caveats in the documentation: https://pandas.pydata.org/pandas-docs/stable/user_guide/indexing.html#returning-a-view-versus-a-copy\n",
      "  df_sag_filter[\"category\"] = df_sag_filter['category'].replace(\"Female Actor In A Supporting Role\",\"Actress in a Supporting Role\")\n",
      "C:\\Users\\juano\\AppData\\Local\\Temp\\ipykernel_12620\\463670398.py:7: SettingWithCopyWarning: \n",
      "A value is trying to be set on a copy of a slice from a DataFrame.\n",
      "Try using .loc[row_indexer,col_indexer] = value instead\n",
      "\n",
      "See the caveats in the documentation: https://pandas.pydata.org/pandas-docs/stable/user_guide/indexing.html#returning-a-view-versus-a-copy\n",
      "  df_sag_filter[\"category\"] = df_sag_filter['category'].replace(\"Female Lead In A Motion Picture\",\"Actress in a Leading Role\")\n",
      "C:\\Users\\juano\\AppData\\Local\\Temp\\ipykernel_12620\\463670398.py:8: SettingWithCopyWarning: \n",
      "A value is trying to be set on a copy of a slice from a DataFrame.\n",
      "Try using .loc[row_indexer,col_indexer] = value instead\n",
      "\n",
      "See the caveats in the documentation: https://pandas.pydata.org/pandas-docs/stable/user_guide/indexing.html#returning-a-view-versus-a-copy\n",
      "  df_sag_filter[\"category\"] = df_sag_filter['category'].replace(\"Female Support In A Motion Picture\",\"Actress in a Supporting Role\")\n",
      "C:\\Users\\juano\\AppData\\Local\\Temp\\ipykernel_12620\\463670398.py:9: SettingWithCopyWarning: \n",
      "A value is trying to be set on a copy of a slice from a DataFrame.\n",
      "Try using .loc[row_indexer,col_indexer] = value instead\n",
      "\n",
      "See the caveats in the documentation: https://pandas.pydata.org/pandas-docs/stable/user_guide/indexing.html#returning-a-view-versus-a-copy\n",
      "  df_sag_filter[\"category\"] = df_sag_filter['category'].replace(\"Male Lead In A Motion Picture\",\"Actor in a Leading Role\")\n",
      "C:\\Users\\juano\\AppData\\Local\\Temp\\ipykernel_12620\\463670398.py:10: SettingWithCopyWarning: \n",
      "A value is trying to be set on a copy of a slice from a DataFrame.\n",
      "Try using .loc[row_indexer,col_indexer] = value instead\n",
      "\n",
      "See the caveats in the documentation: https://pandas.pydata.org/pandas-docs/stable/user_guide/indexing.html#returning-a-view-versus-a-copy\n",
      "  df_sag_filter[\"category\"] = df_sag_filter['category'].replace(\"Male Support In A Motion Picture\",\"Actor in a Supporting Role\")\n",
      "C:\\Users\\juano\\AppData\\Local\\Temp\\ipykernel_12620\\463670398.py:11: SettingWithCopyWarning: \n",
      "A value is trying to be set on a copy of a slice from a DataFrame.\n",
      "Try using .loc[row_indexer,col_indexer] = value instead\n",
      "\n",
      "See the caveats in the documentation: https://pandas.pydata.org/pandas-docs/stable/user_guide/indexing.html#returning-a-view-versus-a-copy\n",
      "  df_sag_filter[\"category\"] = df_sag_filter['category'].replace(\"Male Lead\",\"Actor in a Leading Role\")\n",
      "C:\\Users\\juano\\AppData\\Local\\Temp\\ipykernel_12620\\463670398.py:12: SettingWithCopyWarning: \n",
      "A value is trying to be set on a copy of a slice from a DataFrame.\n",
      "Try using .loc[row_indexer,col_indexer] = value instead\n",
      "\n",
      "See the caveats in the documentation: https://pandas.pydata.org/pandas-docs/stable/user_guide/indexing.html#returning-a-view-versus-a-copy\n",
      "  df_sag_filter[\"category\"] = df_sag_filter['category'].replace(\"Male Support\",\"Actor in a Supporting Role\")\n",
      "C:\\Users\\juano\\AppData\\Local\\Temp\\ipykernel_12620\\463670398.py:13: SettingWithCopyWarning: \n",
      "A value is trying to be set on a copy of a slice from a DataFrame.\n",
      "Try using .loc[row_indexer,col_indexer] = value instead\n",
      "\n",
      "See the caveats in the documentation: https://pandas.pydata.org/pandas-docs/stable/user_guide/indexing.html#returning-a-view-versus-a-copy\n",
      "  df_sag_filter[\"category\"] = df_sag_filter['category'].replace(\"Female Lead\",\"Actress in a Leading Role\")\n",
      "C:\\Users\\juano\\AppData\\Local\\Temp\\ipykernel_12620\\463670398.py:14: SettingWithCopyWarning: \n",
      "A value is trying to be set on a copy of a slice from a DataFrame.\n",
      "Try using .loc[row_indexer,col_indexer] = value instead\n",
      "\n",
      "See the caveats in the documentation: https://pandas.pydata.org/pandas-docs/stable/user_guide/indexing.html#returning-a-view-versus-a-copy\n",
      "  df_sag_filter[\"category\"] = df_sag_filter['category'].replace(\"Female Support\",\"Actress in a Supporting Role\")\n",
      "C:\\Users\\juano\\AppData\\Local\\Temp\\ipykernel_12620\\463670398.py:15: SettingWithCopyWarning: \n",
      "A value is trying to be set on a copy of a slice from a DataFrame.\n",
      "Try using .loc[row_indexer,col_indexer] = value instead\n",
      "\n",
      "See the caveats in the documentation: https://pandas.pydata.org/pandas-docs/stable/user_guide/indexing.html#returning-a-view-versus-a-copy\n",
      "  df_sag_filter[\"category\"] = df_sag_filter['category'].replace(\"Male Lead Role\",\"Actor in a Leading Role\")\n",
      "C:\\Users\\juano\\AppData\\Local\\Temp\\ipykernel_12620\\463670398.py:16: SettingWithCopyWarning: \n",
      "A value is trying to be set on a copy of a slice from a DataFrame.\n",
      "Try using .loc[row_indexer,col_indexer] = value instead\n",
      "\n",
      "See the caveats in the documentation: https://pandas.pydata.org/pandas-docs/stable/user_guide/indexing.html#returning-a-view-versus-a-copy\n",
      "  df_sag_filter[\"category\"] = df_sag_filter['category'].replace(\"Female Lead Role\",\"Actress in a Leading Role\")\n",
      "C:\\Users\\juano\\AppData\\Local\\Temp\\ipykernel_12620\\463670398.py:17: SettingWithCopyWarning: \n",
      "A value is trying to be set on a copy of a slice from a DataFrame.\n",
      "Try using .loc[row_indexer,col_indexer] = value instead\n",
      "\n",
      "See the caveats in the documentation: https://pandas.pydata.org/pandas-docs/stable/user_guide/indexing.html#returning-a-view-versus-a-copy\n",
      "  df_sag_filter[\"category\"] = df_sag_filter['category'].replace(\"Male Supporting Role\",\"Actor in a Supporting Role\")\n",
      "C:\\Users\\juano\\AppData\\Local\\Temp\\ipykernel_12620\\463670398.py:18: SettingWithCopyWarning: \n",
      "A value is trying to be set on a copy of a slice from a DataFrame.\n",
      "Try using .loc[row_indexer,col_indexer] = value instead\n",
      "\n",
      "See the caveats in the documentation: https://pandas.pydata.org/pandas-docs/stable/user_guide/indexing.html#returning-a-view-versus-a-copy\n",
      "  df_sag_filter[\"category\"] = df_sag_filter['category'].replace(\"Female Supporting Role\",\"Actress in a Supporting Role\")\n",
      "C:\\Users\\juano\\AppData\\Local\\Temp\\ipykernel_12620\\463670398.py:19: SettingWithCopyWarning: \n",
      "A value is trying to be set on a copy of a slice from a DataFrame.\n",
      "Try using .loc[row_indexer,col_indexer] = value instead\n",
      "\n",
      "See the caveats in the documentation: https://pandas.pydata.org/pandas-docs/stable/user_guide/indexing.html#returning-a-view-versus-a-copy\n",
      "  df_sag_filter[\"film\"] = df_sag_filter['film'].replace(\"American Husle\",\"American Hustle\")\n"
     ]
    }
   ],
   "source": [
    "# Replace the old category names with the new oficial given ones, and some spelling errors\n",
    "\n",
    "df_sag_filter[\"category\"] = df_sag_filter['category'].replace(\"Female Actor In A Leading Role\",\"Actress in a Leading Role\")\n",
    "df_sag_filter[\"category\"] = df_sag_filter['category'].replace(\"Male Actor In A Leading Role\",\"Actor in a Leading Role\")\n",
    "df_sag_filter[\"category\"] = df_sag_filter['category'].replace(\"Male Actor In A Supporting Role\",\"Actor in a Supporting Role\")\n",
    "df_sag_filter[\"category\"] = df_sag_filter['category'].replace(\"Female Actor In A Supporting Role\",\"Actress in a Supporting Role\")\n",
    "df_sag_filter[\"category\"] = df_sag_filter['category'].replace(\"Female Lead In A Motion Picture\",\"Actress in a Leading Role\")\n",
    "df_sag_filter[\"category\"] = df_sag_filter['category'].replace(\"Female Support In A Motion Picture\",\"Actress in a Supporting Role\")\n",
    "df_sag_filter[\"category\"] = df_sag_filter['category'].replace(\"Male Lead In A Motion Picture\",\"Actor in a Leading Role\")\n",
    "df_sag_filter[\"category\"] = df_sag_filter['category'].replace(\"Male Support In A Motion Picture\",\"Actor in a Supporting Role\")\n",
    "df_sag_filter[\"category\"] = df_sag_filter['category'].replace(\"Male Lead\",\"Actor in a Leading Role\")\n",
    "df_sag_filter[\"category\"] = df_sag_filter['category'].replace(\"Male Support\",\"Actor in a Supporting Role\")\n",
    "df_sag_filter[\"category\"] = df_sag_filter['category'].replace(\"Female Lead\",\"Actress in a Leading Role\")\n",
    "df_sag_filter[\"category\"] = df_sag_filter['category'].replace(\"Female Support\",\"Actress in a Supporting Role\")\n",
    "df_sag_filter[\"category\"] = df_sag_filter['category'].replace(\"Male Lead Role\",\"Actor in a Leading Role\")\n",
    "df_sag_filter[\"category\"] = df_sag_filter['category'].replace(\"Female Lead Role\",\"Actress in a Leading Role\")\n",
    "df_sag_filter[\"category\"] = df_sag_filter['category'].replace(\"Male Supporting Role\",\"Actor in a Supporting Role\")\n",
    "df_sag_filter[\"category\"] = df_sag_filter['category'].replace(\"Female Supporting Role\",\"Actress in a Supporting Role\")\n",
    "df_sag_filter[\"film\"] = df_sag_filter['film'].replace(\"American Husle\",\"American Hustle\")"
   ]
  },
  {
   "cell_type": "code",
   "execution_count": 13,
   "metadata": {},
   "outputs": [],
   "source": [
    "# Filter, by choosing the categories I choose for my anaylisis\n",
    "\n",
    "filter = ['Actor in a Leading Role', 'Actor in a Supporting Role', 'Actress in a Leading Role', 'Actress in a Supporting Role']\n",
    "\n",
    "df_sag_filter = df_sag_filter.loc[df_sag_filter['category'].isin(filter)]"
   ]
  },
  {
   "cell_type": "code",
   "execution_count": 14,
   "metadata": {},
   "outputs": [],
   "source": [
    "# Convert to csv and store it in data folder\n",
    "\n",
    "df_sag_filter.to_csv(\"../data/SAG_clean.csv\")"
   ]
  }
 ],
 "metadata": {
  "kernelspec": {
   "display_name": "Python 3",
   "language": "python",
   "name": "python3"
  },
  "language_info": {
   "codemirror_mode": {
    "name": "ipython",
    "version": 3
   },
   "file_extension": ".py",
   "mimetype": "text/x-python",
   "name": "python",
   "nbconvert_exporter": "python",
   "pygments_lexer": "ipython3",
   "version": "3.10.9 (tags/v3.10.9:1dd9be6, Dec  6 2022, 20:01:21) [MSC v.1934 64 bit (AMD64)]"
  },
  "orig_nbformat": 4,
  "vscode": {
   "interpreter": {
    "hash": "50cc79e049fc694ec4a617632d3f3b416d701e5c7d1bd2dcb3b8bc06996fdedb"
   }
  }
 },
 "nbformat": 4,
 "nbformat_minor": 2
}
