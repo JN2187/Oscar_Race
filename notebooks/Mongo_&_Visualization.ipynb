{
 "cells": [
  {
   "cell_type": "code",
   "execution_count": 126,
   "metadata": {},
   "outputs": [],
   "source": [
    "import pandas as pd\n",
    "import pymongo\n",
    "import sys \n",
    "sys.path.append(\"../\") \n",
    "import src.support as sp \n",
    "import seaborn as sns"
   ]
  },
  {
   "cell_type": "code",
   "execution_count": 115,
   "metadata": {},
   "outputs": [],
   "source": [
    "df_cinema_award = pd.read_csv(\"../data/Cinema_Awards.csv\", index_col=0)"
   ]
  },
  {
   "cell_type": "code",
   "execution_count": 116,
   "metadata": {},
   "outputs": [
    {
     "data": {
      "text/plain": [
       "MongoClient(host=['localhost:27017'], document_class=dict, tz_aware=False, connect=True)"
      ]
     },
     "execution_count": 116,
     "metadata": {},
     "output_type": "execute_result"
    }
   ],
   "source": [
    "# Conect with Mongo\n",
    "\n",
    "client = pymongo.MongoClient()\n",
    "client"
   ]
  },
  {
   "cell_type": "code",
   "execution_count": 117,
   "metadata": {},
   "outputs": [
    {
     "data": {
      "text/plain": [
       "['Cinema_Awards_db', 'admin', 'alojamientos', 'config', 'local']"
      ]
     },
     "execution_count": 117,
     "metadata": {},
     "output_type": "execute_result"
    }
   ],
   "source": [
    "# Check our databases\n",
    "\n",
    "client.list_database_names()"
   ]
  },
  {
   "cell_type": "code",
   "execution_count": 118,
   "metadata": {},
   "outputs": [],
   "source": [
    "# Create a new database on Mongo DB\n",
    "\n",
    "mydb = client[\"Cinema_Awards_db\"]"
   ]
  },
  {
   "cell_type": "code",
   "execution_count": 119,
   "metadata": {},
   "outputs": [],
   "source": [
    "# Create a brand new collectionion in our database\n",
    "\n",
    "collection = mydb.details"
   ]
  },
  {
   "cell_type": "code",
   "execution_count": 120,
   "metadata": {},
   "outputs": [
    {
     "data": {
      "text/plain": [
       "<pymongo.results.InsertManyResult at 0x23c45012200>"
      ]
     },
     "execution_count": 120,
     "metadata": {},
     "output_type": "execute_result"
    }
   ],
   "source": [
    "# Insert data from our dataframe\n",
    "\n",
    "collection.insert_many(df_cinema_award.to_dict(\"records\"))"
   ]
  },
  {
   "cell_type": "code",
   "execution_count": 121,
   "metadata": {},
   "outputs": [
    {
     "data": {
      "text/plain": [
       "<pymongo.cursor.Cursor at 0x23c45012a10>"
      ]
     },
     "execution_count": 121,
     "metadata": {},
     "output_type": "execute_result"
    }
   ],
   "source": [
    "# Pass the query parameter without any specification, so it will return all the elements of the database\n",
    "\n",
    "collection.find()"
   ]
  },
  {
   "cell_type": "code",
   "execution_count": 122,
   "metadata": {},
   "outputs": [
    {
     "data": {
      "text/plain": [
       "{'_id': ObjectId('63cd70ae59897d38f53611fc'),\n",
       " 'year_ceremony': 1990,\n",
       " 'category': 'Actor In A Leading Role',\n",
       " 'name': 'Morgan Freeman',\n",
       " 'film': 'Driving Miss Daisy',\n",
       " 'oscar': 'Nominee',\n",
       " 'golden_globe': 'No',\n",
       " 'sag': 'No',\n",
       " 'cca': 'No'}"
      ]
     },
     "execution_count": 122,
     "metadata": {},
     "output_type": "execute_result"
    }
   ],
   "source": [
    "list(collection.find())[3]"
   ]
  },
  {
   "cell_type": "code",
   "execution_count": 123,
   "metadata": {},
   "outputs": [
    {
     "data": {
      "text/html": [
       "<div>\n",
       "<style scoped>\n",
       "    .dataframe tbody tr th:only-of-type {\n",
       "        vertical-align: middle;\n",
       "    }\n",
       "\n",
       "    .dataframe tbody tr th {\n",
       "        vertical-align: top;\n",
       "    }\n",
       "\n",
       "    .dataframe thead th {\n",
       "        text-align: right;\n",
       "    }\n",
       "</style>\n",
       "<table border=\"1\" class=\"dataframe\">\n",
       "  <thead>\n",
       "    <tr style=\"text-align: right;\">\n",
       "      <th></th>\n",
       "      <th>_id</th>\n",
       "      <th>year_ceremony</th>\n",
       "      <th>category</th>\n",
       "      <th>name</th>\n",
       "      <th>film</th>\n",
       "      <th>oscar</th>\n",
       "      <th>golden_globe</th>\n",
       "      <th>sag</th>\n",
       "      <th>cca</th>\n",
       "    </tr>\n",
       "  </thead>\n",
       "  <tbody>\n",
       "    <tr>\n",
       "      <th>0</th>\n",
       "      <td>63cd70ae59897d38f5361769</td>\n",
       "      <td>2020</td>\n",
       "      <td>Actor In A Leading Role</td>\n",
       "      <td>Joaquin Phoenix</td>\n",
       "      <td>Joker</td>\n",
       "      <td>Winner</td>\n",
       "      <td>No</td>\n",
       "      <td>No</td>\n",
       "      <td>No</td>\n",
       "    </tr>\n",
       "    <tr>\n",
       "      <th>1</th>\n",
       "      <td>63cd70ae59897d38f536176f</td>\n",
       "      <td>2020</td>\n",
       "      <td>Actor In A Supporting Role</td>\n",
       "      <td>Brad Pitt</td>\n",
       "      <td>Once Upon A Time...In Hollywood</td>\n",
       "      <td>Winner</td>\n",
       "      <td>No</td>\n",
       "      <td>No</td>\n",
       "      <td>No</td>\n",
       "    </tr>\n",
       "    <tr>\n",
       "      <th>2</th>\n",
       "      <td>63cd70ae59897d38f5361774</td>\n",
       "      <td>2020</td>\n",
       "      <td>Actress In A Leading Role</td>\n",
       "      <td>Renée Zellweger</td>\n",
       "      <td>Judy</td>\n",
       "      <td>Winner</td>\n",
       "      <td>No</td>\n",
       "      <td>No</td>\n",
       "      <td>No</td>\n",
       "    </tr>\n",
       "    <tr>\n",
       "      <th>3</th>\n",
       "      <td>63cd70ae59897d38f5361776</td>\n",
       "      <td>2020</td>\n",
       "      <td>Actress In A Supporting Role</td>\n",
       "      <td>Laura Dern</td>\n",
       "      <td>Marriage Story</td>\n",
       "      <td>Winner</td>\n",
       "      <td>No</td>\n",
       "      <td>No</td>\n",
       "      <td>No</td>\n",
       "    </tr>\n",
       "    <tr>\n",
       "      <th>4</th>\n",
       "      <td>63cd70ae59897d38f536177e</td>\n",
       "      <td>2020</td>\n",
       "      <td>Directing</td>\n",
       "      <td>Bong Joon Ho</td>\n",
       "      <td>Parasite</td>\n",
       "      <td>Winner</td>\n",
       "      <td>No</td>\n",
       "      <td>No</td>\n",
       "      <td>No</td>\n",
       "    </tr>\n",
       "    <tr>\n",
       "      <th>5</th>\n",
       "      <td>63cd70ae59897d38f5361783</td>\n",
       "      <td>2020</td>\n",
       "      <td>International Feature Film</td>\n",
       "      <td>South Korea</td>\n",
       "      <td>Parasite</td>\n",
       "      <td>Winner</td>\n",
       "      <td>No</td>\n",
       "      <td>No</td>\n",
       "      <td>No</td>\n",
       "    </tr>\n",
       "    <tr>\n",
       "      <th>6</th>\n",
       "      <td>63cd70ae59897d38f536178c</td>\n",
       "      <td>2020</td>\n",
       "      <td>Best Picture</td>\n",
       "      <td>Kwak Sin Ae and Bong Joon Ho, Producers</td>\n",
       "      <td>Parasite</td>\n",
       "      <td>Winner</td>\n",
       "      <td>No</td>\n",
       "      <td>No</td>\n",
       "      <td>No</td>\n",
       "    </tr>\n",
       "    <tr>\n",
       "      <th>7</th>\n",
       "      <td>63cd70ae59897d38f536178e</td>\n",
       "      <td>2020</td>\n",
       "      <td>Writing (Adapted Screenplay)</td>\n",
       "      <td>Screenplay by Taika Waititi</td>\n",
       "      <td>Jojo Rabbit</td>\n",
       "      <td>Winner</td>\n",
       "      <td>No</td>\n",
       "      <td>No</td>\n",
       "      <td>No</td>\n",
       "    </tr>\n",
       "    <tr>\n",
       "      <th>8</th>\n",
       "      <td>63cd70ae59897d38f5361796</td>\n",
       "      <td>2020</td>\n",
       "      <td>Writing (Original Screenplay)</td>\n",
       "      <td>Screenplay by Bong Joon Ho, Han Jin Won; Story...</td>\n",
       "      <td>Parasite</td>\n",
       "      <td>Winner</td>\n",
       "      <td>No</td>\n",
       "      <td>No</td>\n",
       "      <td>No</td>\n",
       "    </tr>\n",
       "    <tr>\n",
       "      <th>9</th>\n",
       "      <td>63cd70ae59897d38f5361c59</td>\n",
       "      <td>2020</td>\n",
       "      <td>Actress In A Leading Role - Drama</td>\n",
       "      <td>Renée Zellweger</td>\n",
       "      <td>Judy</td>\n",
       "      <td>No</td>\n",
       "      <td>Winner</td>\n",
       "      <td>No</td>\n",
       "      <td>No</td>\n",
       "    </tr>\n",
       "  </tbody>\n",
       "</table>\n",
       "</div>"
      ],
      "text/plain": [
       "                        _id  year_ceremony                           category  \\\n",
       "0  63cd70ae59897d38f5361769           2020            Actor In A Leading Role   \n",
       "1  63cd70ae59897d38f536176f           2020         Actor In A Supporting Role   \n",
       "2  63cd70ae59897d38f5361774           2020          Actress In A Leading Role   \n",
       "3  63cd70ae59897d38f5361776           2020       Actress In A Supporting Role   \n",
       "4  63cd70ae59897d38f536177e           2020                          Directing   \n",
       "5  63cd70ae59897d38f5361783           2020         International Feature Film   \n",
       "6  63cd70ae59897d38f536178c           2020                       Best Picture   \n",
       "7  63cd70ae59897d38f536178e           2020       Writing (Adapted Screenplay)   \n",
       "8  63cd70ae59897d38f5361796           2020      Writing (Original Screenplay)   \n",
       "9  63cd70ae59897d38f5361c59           2020  Actress In A Leading Role - Drama   \n",
       "\n",
       "                                                name  \\\n",
       "0                                    Joaquin Phoenix   \n",
       "1                                          Brad Pitt   \n",
       "2                                    Renée Zellweger   \n",
       "3                                         Laura Dern   \n",
       "4                                       Bong Joon Ho   \n",
       "5                                        South Korea   \n",
       "6            Kwak Sin Ae and Bong Joon Ho, Producers   \n",
       "7                        Screenplay by Taika Waititi   \n",
       "8  Screenplay by Bong Joon Ho, Han Jin Won; Story...   \n",
       "9                                    Renée Zellweger   \n",
       "\n",
       "                              film   oscar golden_globe sag cca  \n",
       "0                            Joker  Winner           No  No  No  \n",
       "1  Once Upon A Time...In Hollywood  Winner           No  No  No  \n",
       "2                             Judy  Winner           No  No  No  \n",
       "3                   Marriage Story  Winner           No  No  No  \n",
       "4                         Parasite  Winner           No  No  No  \n",
       "5                         Parasite  Winner           No  No  No  \n",
       "6                         Parasite  Winner           No  No  No  \n",
       "7                      Jojo Rabbit  Winner           No  No  No  \n",
       "8                         Parasite  Winner           No  No  No  \n",
       "9                             Judy      No       Winner  No  No  "
      ]
     },
     "execution_count": 123,
     "metadata": {},
     "output_type": "execute_result"
    }
   ],
   "source": [
    "cond1 = {'year_ceremony': {\"$eq\": 2020}}\n",
    "cond2 = {'oscar': {\"$eq\": \"Winner\"}}\n",
    "cond3 = {'golden_globe': {\"$eq\": \"Winner\"}}\n",
    "cond4 = {'sag': {\"$eq\": \"Winner\"}}\n",
    "cond5 = {'cca': {\"$eq\": \"Winner\"}}\n",
    "\n",
    "df_2020 = pd.DataFrame(collection.find({'$and':[cond1],'$or': [cond2, cond3, cond4, cond5]}))\n",
    "df_2020.head(10)"
   ]
  },
  {
   "cell_type": "code",
   "execution_count": 128,
   "metadata": {},
   "outputs": [
    {
     "ename": "AttributeError",
     "evalue": "module 'src.support' has no attribute 'create_year_range_df'",
     "output_type": "error",
     "traceback": [
      "\u001b[1;31m---------------------------------------------------------------------------\u001b[0m",
      "\u001b[1;31mAttributeError\u001b[0m                            Traceback (most recent call last)",
      "Cell \u001b[1;32mIn [128], line 1\u001b[0m\n\u001b[1;32m----> 1\u001b[0m df_oscar_race1 \u001b[39m=\u001b[39m sp\u001b[39m.\u001b[39;49mcreate_year_range_df(\u001b[39m1990\u001b[39m, \u001b[39m2000\u001b[39m, df_2020)\n",
      "\u001b[1;31mAttributeError\u001b[0m: module 'src.support' has no attribute 'create_year_range_df'"
     ]
    }
   ],
   "source": [
    "df_oscar_race1 = sp.create_year_range_df(1990, 2000, df_2020)"
   ]
  },
  {
   "cell_type": "code",
   "execution_count": null,
   "metadata": {},
   "outputs": [],
   "source": [
    "pd.options.display.max_rows = None"
   ]
  },
  {
   "cell_type": "code",
   "execution_count": null,
   "metadata": {},
   "outputs": [],
   "source": [
    "# Create a new column indicating whether the nominee or winner won an Oscar\n",
    "\n",
    "df_oscar_race['oscar_win'] = df_oscar_race.apply(lambda x: 1 if x['oscar'] == 'Winner' else 0, axis=1)\n",
    "df_oscar_race['golden_globe_win'] = df_oscar_race.apply(lambda x: 1 if x['golden_globe'] == 'Winner' else 0, axis=1)\n",
    "df_oscar_race['sag_win'] = df_oscar_race.apply(lambda x: 1 if x['sag'] == 'Winner' else 0, axis=1)\n",
    "df_oscar_race['cca_win'] = df_oscar_race.apply(lambda x: 1 if x['cca'] == 'Winner' else 0, axis=1)\n",
    "\n",
    "# Group the dataframe by actor/actress and film\n",
    "\n",
    "grouped = df_oscar_race.groupby([\"year_ceremony\", \"film\"])\n",
    "\n",
    "# Calculate the number of Oscar wins, nominations, and wins in the other awards\n",
    "\n",
    "df_correlation = grouped.agg({'oscar_win': 'sum', 'golden_globe_win': 'count', 'sag_win': 'sum', 'cca_win': 'sum'}).reset_index()"
   ]
  },
  {
   "cell_type": "code",
   "execution_count": null,
   "metadata": {},
   "outputs": [],
   "source": [
    "df_correlation = df_correlation.sort_values(by='oscar_win', ascending=False)"
   ]
  },
  {
   "cell_type": "code",
   "execution_count": null,
   "metadata": {},
   "outputs": [
    {
     "name": "stderr",
     "output_type": "stream",
     "text": [
      "C:\\Users\\juano\\AppData\\Local\\Temp\\ipykernel_4308\\1024080143.py:2: FutureWarning: The default value of numeric_only in DataFrame.corr is deprecated. In a future version, it will default to False. Select only valid columns or specify the value of numeric_only to silence this warning.\n",
      "  corr = df_correlation.corr()\n"
     ]
    },
    {
     "data": {
      "text/plain": [
       "<AxesSubplot: >"
      ]
     },
     "execution_count": 110,
     "metadata": {},
     "output_type": "execute_result"
    },
    {
     "data": {
      "image/png": "[encoded data removed]",
      "text/plain": [
       "<Figure size 640x480 with 2 Axes>"
      ]
     },
     "metadata": {},
     "output_type": "display_data"
    }
   ],
   "source": [
    "# Calculate the correlation between the number of wins in the other awards and the number of Oscar wins\n",
    "corr = df_correlation.corr()\n",
    "\n",
    "# Visualize the correlation matrix\n",
    "sns.heatmap(corr, annot=True)"
   ]
  },
  {
   "cell_type": "code",
   "execution_count": null,
   "metadata": {},
   "outputs": [
    {
     "data": {
      "text/plain": [
       "<AxesSubplot: xlabel='year_ceremony', ylabel='golden_globe_win'>"
      ]
     },
     "execution_count": 112,
     "metadata": {},
     "output_type": "execute_result"
    },
    {
     "data": {
      "image/png": "[encoded data removed]",
      "text/plain": [
       "<Figure size 640x480 with 1 Axes>"
      ]
     },
     "metadata": {},
     "output_type": "display_data"
    }
   ],
   "source": [
    "sns.barplot(x='year_ceremony', y='golden_globe_win', hue='oscar_win', data=df_correlation)"
   ]
  }
 ],
 "metadata": {
  "kernelspec": {
   "display_name": "Python 3",
   "language": "python",
   "name": "python3"
  },
  "language_info": {
   "codemirror_mode": {
    "name": "ipython",
    "version": 3
   },
   "file_extension": ".py",
   "mimetype": "text/x-python",
   "name": "python",
   "nbconvert_exporter": "python",
   "pygments_lexer": "ipython3",
   "version": "3.10.9"
  },
  "orig_nbformat": 4,
  "vscode": {
   "interpreter": {
    "hash": "50cc79e049fc694ec4a617632d3f3b416d701e5c7d1bd2dcb3b8bc06996fdedb"
   }
  }
 },
 "nbformat": 4,
 "nbformat_minor": 2
}
