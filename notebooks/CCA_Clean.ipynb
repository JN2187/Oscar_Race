{
 "cells": [
  {
   "cell_type": "code",
   "execution_count": 1,
   "metadata": {},
   "outputs": [],
   "source": [
    "import pandas as pd"
   ]
  },
  {
   "cell_type": "code",
   "execution_count": 2,
   "metadata": {},
   "outputs": [],
   "source": [
    "# Convert the BeautifulSoup csv's into a Data Frame\n",
    "\n",
    "df_cca_picture = pd.read_csv(\"../data/Best_Picture_soup_cca.csv\")\n",
    "df_cca_actor = pd.read_csv(\"../data/Actor_In_A_Leading_Role_soup_cca.csv\")\n",
    "df_cca_actress = pd.read_csv(\"../data/Actress_In_A_Leading_Role_soup_cca.csv\")\n",
    "df_cca_sup_actor = pd.read_csv(\"../data/Actor_In_A_Supporting_Role_soup_cca.csv\")\n",
    "df_cca_sup_actress = pd.read_csv(\"../data/Actress_In_A_Supporting_Role_soup_cca.csv\")"
   ]
  },
  {
   "cell_type": "code",
   "execution_count": 3,
   "metadata": {},
   "outputs": [
    {
     "name": "stdout",
     "output_type": "stream",
     "text": [
      "(160, 90, 85, 113, 108)\n"
     ]
    }
   ],
   "source": [
    "# Create a tuple 'count' that contains the number of unique names in each of the specified dataframes\n",
    "\n",
    "count = (len(df_cca_picture[\"name\"].unique()), len(df_cca_actor[\"name\"].unique()), \n",
    "         len(df_cca_actress[\"name\"].unique()), len(df_cca_sup_actor[\"name\"].unique()),\n",
    "         len(df_cca_sup_actress[\"name\"].unique()))\n",
    "\n",
    "# Print the tuple\n",
    "\n",
    "print(count)"
   ]
  },
  {
   "cell_type": "code",
   "execution_count": 4,
   "metadata": {},
   "outputs": [],
   "source": [
    "# Merge the 5 csv in one\n",
    "\n",
    "merged_df = pd.concat([df_cca_picture, df_cca_actor, df_cca_actress, df_cca_sup_actor, df_cca_sup_actress])"
   ]
  },
  {
   "cell_type": "code",
   "execution_count": 5,
   "metadata": {},
   "outputs": [],
   "source": [
    "# Drop the column I don´t need\n",
    "\n",
    "merged_df.drop(columns=[\"Unnamed: 0\"], inplace=True)"
   ]
  },
  {
   "cell_type": "code",
   "execution_count": 6,
   "metadata": {},
   "outputs": [],
   "source": [
    "# Replace some spelling errors\n",
    "\n",
    "merged_df[\"film\"] = merged_df['film'].replace(\"Adaptation.\",\"Adaptation\")"
   ]
  },
  {
   "cell_type": "code",
   "execution_count": 7,
   "metadata": {},
   "outputs": [],
   "source": [
    "# Convert to csv and store it in data folder\n",
    "\n",
    "merged_df.to_csv(\"../data/CCA_clean.csv\")"
   ]
  }
 ],
 "metadata": {
  "kernelspec": {
   "display_name": "Python 3",
   "language": "python",
   "name": "python3"
  },
  "language_info": {
   "codemirror_mode": {
    "name": "ipython",
    "version": 3
   },
   "file_extension": ".py",
   "mimetype": "text/x-python",
   "name": "python",
   "nbconvert_exporter": "python",
   "pygments_lexer": "ipython3",
   "version": "3.10.9"
  },
  "orig_nbformat": 4,
  "vscode": {
   "interpreter": {
    "hash": "50cc79e049fc694ec4a617632d3f3b416d701e5c7d1bd2dcb3b8bc06996fdedb"
   }
  }
 },
 "nbformat": 4,
 "nbformat_minor": 2
}
