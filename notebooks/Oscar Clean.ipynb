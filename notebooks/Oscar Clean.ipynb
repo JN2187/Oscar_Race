{
 "cells": [
  {
   "cell_type": "code",
   "execution_count": 1,
   "metadata": {},
   "outputs": [],
   "source": [
    "import pandas as pd\n",
    "sys.path.append(\"../\") \n",
    "import src.support as sp"
   ]
  },
  {
   "cell_type": "code",
   "execution_count": 2,
   "metadata": {},
   "outputs": [],
   "source": [
    "# Convert the csv into a Data Frame\n",
    "\n",
    "df_oscar = pd.read_csv(\"../data/the_oscar_award.csv\")"
   ]
  },
  {
   "cell_type": "code",
   "execution_count": 3,
   "metadata": {},
   "outputs": [
    {
     "data": {
      "text/plain": [
       "6"
      ]
     },
     "execution_count": 3,
     "metadata": {},
     "output_type": "execute_result"
    }
   ],
   "source": [
    "# Check for any duplicate\n",
    "\n",
    "df_oscar.duplicated().sum()"
   ]
  },
  {
   "cell_type": "code",
   "execution_count": 4,
   "metadata": {},
   "outputs": [
    {
     "data": {
      "text/plain": [
       "0"
      ]
     },
     "execution_count": 4,
     "metadata": {},
     "output_type": "execute_result"
    }
   ],
   "source": [
    "# Drop the duplicates\n",
    "\n",
    "df_oscar = df_oscar.drop_duplicates()\n",
    "df_oscar.duplicated().sum()"
   ]
  },
  {
   "cell_type": "code",
   "execution_count": 5,
   "metadata": {},
   "outputs": [
    {
     "data": {
      "text/plain": [
       "year_film          0\n",
       "year_ceremony      0\n",
       "ceremony           0\n",
       "category           0\n",
       "name               0\n",
       "film             304\n",
       "winner             0\n",
       "dtype: int64"
      ]
     },
     "execution_count": 5,
     "metadata": {},
     "output_type": "execute_result"
    }
   ],
   "source": [
    "# Checking for any null value\n",
    "\n",
    "df_oscar.isnull().sum()"
   ]
  },
  {
   "cell_type": "code",
   "execution_count": 6,
   "metadata": {},
   "outputs": [],
   "source": [
    "# Standarizing the column names and filtering with the ones I wanted for the analysis\n",
    "# Replace the booleans with Nominee and Winner\n",
    "\n",
    "df_oscar[\"winner\"] = df_oscar['winner'].replace(False, \"Nominee\").replace(True, \"Winner\") \n",
    "\n",
    "# Rename the columns with the name of the award\n",
    "\n",
    "df_oscar.rename(columns={'winner':\"oscar\"}, inplace=True) \n",
    "\n",
    "# Drop the columns I don´t need\n",
    "\n",
    "df_oscar.drop([\"year_film\", \"ceremony\"], axis = 1, inplace=True) "
   ]
  },
  {
   "cell_type": "code",
   "execution_count": 7,
   "metadata": {},
   "outputs": [],
   "source": [
    "# Apply the function to the columns we need to standarize\n",
    "\n",
    "df_oscar[\"category\"] = sp.standarize_title(df_oscar, \"category\")\n",
    "df_oscar[\"film\"] = sp.standarize_title(df_oscar, \"film\")"
   ]
  },
  {
   "cell_type": "code",
   "execution_count": 8,
   "metadata": {},
   "outputs": [
    {
     "name": "stderr",
     "output_type": "stream",
     "text": [
      "C:\\Users\\juano\\AppData\\Local\\Temp\\ipykernel_16272\\824570070.py:3: FutureWarning: Boolean inputs to the `inclusive` argument are deprecated in favour of `both` or `neither`.\n",
      "  df_oscar_filter = df_oscar[df_oscar[\"year_ceremony\"].between(1990, 2022, inclusive=True)]\n"
     ]
    }
   ],
   "source": [
    "# Filter the years from 1990 to 2022 to make our analysis\n",
    "\n",
    "df_oscar_filter = df_oscar[df_oscar[\"year_ceremony\"].between(1990, 2022, inclusive=True)]"
   ]
  },
  {
   "cell_type": "code",
   "execution_count": 9,
   "metadata": {},
   "outputs": [
    {
     "name": "stderr",
     "output_type": "stream",
     "text": [
      "C:\\Users\\juano\\AppData\\Local\\Temp\\ipykernel_16272\\2273326463.py:3: SettingWithCopyWarning: \n",
      "A value is trying to be set on a copy of a slice from a DataFrame.\n",
      "Try using .loc[row_indexer,col_indexer] = value instead\n",
      "\n",
      "See the caveats in the documentation: https://pandas.pydata.org/pandas-docs/stable/user_guide/indexing.html#returning-a-view-versus-a-copy\n",
      "  df_oscar_filter[\"category\"] = df_oscar_filter['category'].replace(\"Foreign Language Film\", \"International Feature Film\")\n",
      "C:\\Users\\juano\\AppData\\Local\\Temp\\ipykernel_16272\\2273326463.py:4: SettingWithCopyWarning: \n",
      "A value is trying to be set on a copy of a slice from a DataFrame.\n",
      "Try using .loc[row_indexer,col_indexer] = value instead\n",
      "\n",
      "See the caveats in the documentation: https://pandas.pydata.org/pandas-docs/stable/user_guide/indexing.html#returning-a-view-versus-a-copy\n",
      "  df_oscar_filter[\"category\"] = df_oscar_filter['category'].replace(\"Writing (Screenplay Based On Material From Another Medium)\", \"Writing (Adapted Screenplay)\")\n",
      "C:\\Users\\juano\\AppData\\Local\\Temp\\ipykernel_16272\\2273326463.py:5: SettingWithCopyWarning: \n",
      "A value is trying to be set on a copy of a slice from a DataFrame.\n",
      "Try using .loc[row_indexer,col_indexer] = value instead\n",
      "\n",
      "See the caveats in the documentation: https://pandas.pydata.org/pandas-docs/stable/user_guide/indexing.html#returning-a-view-versus-a-copy\n",
      "  df_oscar_filter[\"category\"] = df_oscar_filter['category'].replace(\"Writing (Screenplay Based On Material Previously Produced Or Published)\", \"Writing (Adapted Screenplay)\")\n",
      "C:\\Users\\juano\\AppData\\Local\\Temp\\ipykernel_16272\\2273326463.py:6: SettingWithCopyWarning: \n",
      "A value is trying to be set on a copy of a slice from a DataFrame.\n",
      "Try using .loc[row_indexer,col_indexer] = value instead\n",
      "\n",
      "See the caveats in the documentation: https://pandas.pydata.org/pandas-docs/stable/user_guide/indexing.html#returning-a-view-versus-a-copy\n",
      "  df_oscar_filter[\"category\"] = df_oscar_filter['category'].replace(\"Writing (Screenplay Written Directly For The Screen)\", \"Writing (Original Screenplay)\")\n"
     ]
    }
   ],
   "source": [
    "# Replace the old category names with the new oficial given ones\n",
    "\n",
    "df_oscar_filter[\"category\"] = df_oscar_filter['category'].replace(\"Foreign Language Film\", \"International Feature Film\")\n",
    "df_oscar_filter[\"category\"] = df_oscar_filter['category'].replace(\"Writing (Screenplay Based On Material From Another Medium)\", \"Writing (Adapted Screenplay)\")\n",
    "df_oscar_filter[\"category\"] = df_oscar_filter['category'].replace(\"Writing (Screenplay Based On Material Previously Produced Or Published)\", \"Writing (Adapted Screenplay)\")\n",
    "df_oscar_filter[\"category\"] = df_oscar_filter['category'].replace(\"Writing (Screenplay Written Directly For The Screen)\", \"Writing (Original Screenplay)\")"
   ]
  },
  {
   "cell_type": "code",
   "execution_count": 10,
   "metadata": {},
   "outputs": [],
   "source": [
    "# Filter, by choosing the categories I pick for my anaylisis\n",
    "\n",
    "filter = ['Actor In A Leading Role', 'Actor In A Supporting Role',\n",
    "       'Actress In A Leading Role', 'Actress In A Supporting Role',\n",
    "       'Directing','Best Picture','International Feature Film',\n",
    "       'Writing (Adapted Screenplay)',\n",
    "       'Writing (Original Screenplay)']\n",
    "\n",
    "df_oscar_filter = df_oscar_filter.loc[df_oscar_filter['category'].isin(filter)]"
   ]
  },
  {
   "cell_type": "code",
   "execution_count": 11,
   "metadata": {},
   "outputs": [],
   "source": [
    "# Convert to csv and store it in data folder\n",
    "\n",
    "df_oscar_filter.to_csv(\"../data/Oscar_clean.csv\")"
   ]
  }
 ],
 "metadata": {
  "kernelspec": {
   "display_name": "Python 3",
   "language": "python",
   "name": "python3"
  },
  "language_info": {
   "codemirror_mode": {
    "name": "ipython",
    "version": 3
   },
   "file_extension": ".py",
   "mimetype": "text/x-python",
   "name": "python",
   "nbconvert_exporter": "python",
   "pygments_lexer": "ipython3",
   "version": "3.10.9"
  },
  "orig_nbformat": 4,
  "vscode": {
   "interpreter": {
    "hash": "50cc79e049fc694ec4a617632d3f3b416d701e5c7d1bd2dcb3b8bc06996fdedb"
   }
  }
 },
 "nbformat": 4,
 "nbformat_minor": 2
}
